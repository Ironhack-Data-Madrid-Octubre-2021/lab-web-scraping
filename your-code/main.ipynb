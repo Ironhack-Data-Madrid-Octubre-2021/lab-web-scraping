{
 "cells": [
  {
   "cell_type": "markdown",
   "metadata": {},
   "source": [
    "# Web Scraping Lab\n",
    "\n",
    "You will find in this notebook some scrapy exercises to practise your scraping skills.\n",
    "\n",
    "**Tips:**\n",
    "\n",
    "- Check the response status code for each request to ensure you have obtained the intended contennt.\n",
    "- Print the response text in each request to understand the kind of info you are getting and its format.\n",
    "- Check for patterns in the response text to extract the data/info requested in each question.\n",
    "- Visit each url and take a look at its source through Chrome DevTools. You'll need to identify the html tags, special class names etc. used for the html content you are expected to extract."
   ]
  },
  {
   "cell_type": "markdown",
   "metadata": {},
   "source": [
    "- [Requests library](http://docs.python-requests.org/en/master/#the-user-guide) documentation \n",
    "- [Beautiful Soup Doc](https://www.crummy.com/software/BeautifulSoup/bs4/doc/)\n",
    "- [Urllib](https://docs.python.org/3/library/urllib.html#module-urllib)\n",
    "- [re lib](https://docs.python.org/3/library/re.html)\n",
    "- [lxml lib](https://lxml.de/)\n",
    "- [Scrapy](https://scrapy.org/)\n",
    "- [List of HTTP status codes](https://en.wikipedia.org/wiki/List_of_HTTP_status_codes)\n",
    "- [HTML basics](http://www.simplehtmlguide.com/cheatsheet.php)\n",
    "- [CSS basics](https://www.cssbasics.com/#page_start)"
   ]
  },
  {
   "cell_type": "markdown",
   "metadata": {},
   "source": [
    "#### Below are the libraries and modules you may need. `requests`,  `BeautifulSoup` and `pandas` are imported for you. If you prefer to use additional libraries feel free to uncomment them."
   ]
  },
  {
   "cell_type": "code",
   "execution_count": 1,
   "metadata": {},
   "outputs": [],
   "source": [
    "import requests\n",
    "from bs4 import BeautifulSoup\n",
    "import pandas as pd\n",
    "# from pprint import pprint\n",
    "# from lxml import html\n",
    "# from lxml.html import fromstring\n",
    "# import urllib.request\n",
    "from urllib.request import urlopen\n",
    "# import random\n",
    "import re\n",
    "# import scrapy"
   ]
  },
  {
   "cell_type": "markdown",
   "metadata": {},
   "source": [
    "#### Download, parse (using BeautifulSoup), and print the content from the Trending Developers page from GitHub:"
   ]
  },
  {
   "cell_type": "code",
   "execution_count": 2,
   "metadata": {},
   "outputs": [],
   "source": [
    "# This is the url you will scrape in this exercise\n",
    "url = 'https://github.com/trending/developers'"
   ]
  },
  {
   "cell_type": "code",
   "execution_count": 3,
   "metadata": {},
   "outputs": [],
   "source": [
    "#your code\n",
    "html = requests.get(url)\n",
    "soup = BeautifulSoup(html.content,\"html.parser\")"
   ]
  },
  {
   "cell_type": "code",
   "execution_count": 4,
   "metadata": {},
   "outputs": [
    {
     "data": {
      "text/plain": [
       "bs4.BeautifulSoup"
      ]
     },
     "execution_count": 4,
     "metadata": {},
     "output_type": "execute_result"
    }
   ],
   "source": [
    "type(soup)"
   ]
  },
  {
   "cell_type": "markdown",
   "metadata": {},
   "source": [
    "### sacamos una lista de nombres:"
   ]
  },
  {
   "cell_type": "code",
   "execution_count": 47,
   "metadata": {},
   "outputs": [],
   "source": [
    "tags = list(soup.find_all(\"h1\", {\"class\": \"h3 lh-condensed\"}))"
   ]
  },
  {
   "cell_type": "code",
   "execution_count": 53,
   "metadata": {},
   "outputs": [
    {
     "data": {
      "text/plain": [
       "'文翼'"
      ]
     },
     "execution_count": 53,
     "metadata": {},
     "output_type": "execute_result"
    }
   ],
   "source": [
    "tags[0].getText().strip()"
   ]
  },
  {
   "cell_type": "markdown",
   "metadata": {},
   "source": [
    "### y otra lista de alias"
   ]
  },
  {
   "cell_type": "code",
   "execution_count": 29,
   "metadata": {},
   "outputs": [],
   "source": [
    "tags2 = list(soup.find_all(\"p\", {\"class\": \"f4 text-normal mb-1\"}))"
   ]
  },
  {
   "cell_type": "code",
   "execution_count": 21,
   "metadata": {},
   "outputs": [
    {
     "data": {
      "text/plain": [
       "'wenzhixin'"
      ]
     },
     "execution_count": 21,
     "metadata": {},
     "output_type": "execute_result"
    }
   ],
   "source": [
    "tags2[0].getText().strip()"
   ]
  },
  {
   "cell_type": "code",
   "execution_count": 51,
   "metadata": {
    "scrolled": true
   },
   "outputs": [],
   "source": [
    "lista=[[tags[i].getText().strip(),tags2[i].getText().strip()] for i in range(len(tags))]"
   ]
  },
  {
   "cell_type": "code",
   "execution_count": 52,
   "metadata": {},
   "outputs": [
    {
     "data": {
      "text/plain": [
       "[['文翼', 'wenzhixin'],\n",
       " ['angus croll', 'angus-c'],\n",
       " ['LoveSy', 'yujincheng08'],\n",
       " ['bokuweb', 'bokuweb'],\n",
       " ['Ondřej Surý', 'oerdnj'],\n",
       " ['Han Xiao', 'hanxiao'],\n",
       " ['Jeffrey Su', 'JeffreySu'],\n",
       " ['Taner Şener', 'tanersener'],\n",
       " ['Dody Gunawinata', 'dodyg'],\n",
       " ['Matthias Fey', 'rusty1s'],\n",
       " ['Matt Layher', 'mdlayher'],\n",
       " ['Jimmy Wärting', 'jimmywarting'],\n",
       " ['Lion - dapplion', 'dapplion'],\n",
       " ['Samuel Colvin', 'samuelcolvin'],\n",
       " ['vincent d warmerdam', 'koaning'],\n",
       " ['Pedro Piñera Buendía', 'pepibumur'],\n",
       " ['Jesse Hills', 'jesserockz'],\n",
       " ['Puru Vijay', 'PuruVJ'],\n",
       " ['David Tolnay', 'dtolnay'],\n",
       " ['Drew Powers', 'drwpow'],\n",
       " ['John Sundell', 'JohnSundell'],\n",
       " ['Mr.doob', 'mrdoob'],\n",
       " ['Robert Mosolgo', 'rmosolgo'],\n",
       " ['Keegan Carruthers-Smith', 'keegancsmith'],\n",
       " ['Mike Cao', 'mikecao']]"
      ]
     },
     "execution_count": 52,
     "metadata": {},
     "output_type": "execute_result"
    }
   ],
   "source": [
    "lista"
   ]
  },
  {
   "cell_type": "markdown",
   "metadata": {},
   "source": [
    "#### Display the names of the trending developers retrieved in the previous step.\n",
    "\n",
    "Your output should be a Python list of developer names. Each name should not contain any html tag.\n",
    "\n",
    "**Instructions:**\n",
    "\n",
    "1. Find out the html tag and class names used for the developer names. You can achieve this using Chrome DevTools.\n",
    "\n",
    "1. Use BeautifulSoup to extract all the html elements that contain the developer names.\n",
    "\n",
    "1. Use string manipulation techniques to replace whitespaces and linebreaks (i.e. `\\n`) in the *text* of each html element. Use a list to store the clean names.\n",
    "\n",
    "1. Print the list of names.\n",
    "\n",
    "Your output should look like below:\n",
    "\n",
    "```\n",
    "['trimstray (@trimstray)',\n",
    " 'joewalnes (JoeWalnes)',\n",
    " 'charlax (Charles-AxelDein)',\n",
    " 'ForrestKnight (ForrestKnight)',\n",
    " 'revery-ui (revery-ui)',\n",
    " 'alibaba (Alibaba)',\n",
    " 'Microsoft (Microsoft)',\n",
    " 'github (GitHub)',\n",
    " 'facebook (Facebook)',\n",
    " 'boazsegev (Bo)',\n",
    " 'google (Google)',\n",
    " 'cloudfetch',\n",
    " 'sindresorhus (SindreSorhus)',\n",
    " 'tensorflow',\n",
    " 'apache (TheApacheSoftwareFoundation)',\n",
    " 'DevonCrawford (DevonCrawford)',\n",
    " 'ARMmbed (ArmMbed)',\n",
    " 'vuejs (vuejs)',\n",
    " 'fastai (fast.ai)',\n",
    " 'QiShaoXuan (Qi)',\n",
    " 'joelparkerhenderson (JoelParkerHenderson)',\n",
    " 'torvalds (LinusTorvalds)',\n",
    " 'CyC2018',\n",
    " 'komeiji-satori (神楽坂覚々)',\n",
    " 'script-8']\n",
    " ```"
   ]
  },
  {
   "cell_type": "code",
   "execution_count": null,
   "metadata": {},
   "outputs": [],
   "source": [
    "#your code\n"
   ]
  },
  {
   "cell_type": "markdown",
   "metadata": {},
   "source": [
    "#### Display the trending Python repositories in GitHub\n",
    "\n",
    "The steps to solve this problem is similar to the previous one except that you need to find out the repository names instead of developer names."
   ]
  },
  {
   "cell_type": "code",
   "execution_count": 54,
   "metadata": {},
   "outputs": [],
   "source": [
    "# This is the url you will scrape in this exercise\n",
    "url = 'https://github.com/trending/python?since=daily'"
   ]
  },
  {
   "cell_type": "code",
   "execution_count": 55,
   "metadata": {},
   "outputs": [],
   "source": [
    "#your code\n",
    "html = requests.get(url)\n",
    "soup = BeautifulSoup(html.content,\"html.parser\")"
   ]
  },
  {
   "cell_type": "code",
   "execution_count": 56,
   "metadata": {},
   "outputs": [],
   "source": [
    "tags3 = list(soup.find_all(\"h1\", {\"class\": \"h3 lh-condensed\"}))"
   ]
  },
  {
   "cell_type": "code",
   "execution_count": 59,
   "metadata": {},
   "outputs": [
    {
     "data": {
      "text/plain": [
       "'Python-World /\\n\\n      python-mini-projects'"
      ]
     },
     "execution_count": 59,
     "metadata": {},
     "output_type": "execute_result"
    }
   ],
   "source": [
    "tags3[0].getText().strip()"
   ]
  },
  {
   "cell_type": "code",
   "execution_count": 62,
   "metadata": {},
   "outputs": [],
   "source": [
    "lista=[tags3[i].getText().strip() for i in range(len(tags3))]"
   ]
  },
  {
   "cell_type": "code",
   "execution_count": 77,
   "metadata": {},
   "outputs": [
    {
     "data": {
      "text/plain": [
       "[['Python-World', 'python-mini-projects'],\n",
       " ['huggingface', 'datasets'],\n",
       " ['espnet', 'espnet'],\n",
       " ['bregman-arie', 'devops-exercises'],\n",
       " ['pytest-dev', 'pytest'],\n",
       " ['tiangolo', 'fastapi'],\n",
       " ['bhky', 'opennsfw2'],\n",
       " ['TachibanaYoshino', 'AnimeGANv2'],\n",
       " ['synacktiv', 'CVE-2021-40539'],\n",
       " ['huggingface', 'transformers'],\n",
       " ['netbox-community', 'netbox'],\n",
       " ['public-apis', 'public-apis'],\n",
       " ['WZMIAOMIAO', 'deep-learning-for-image-processing'],\n",
       " ['ansible', 'ansible'],\n",
       " ['swisskyrepo', 'PayloadsAllTheThings'],\n",
       " ['pytorch', 'fairseq'],\n",
       " ['demisto', 'content'],\n",
       " ['PyGithub', 'PyGithub'],\n",
       " ['danielgatis', 'rembg'],\n",
       " ['tensorflow', 'models'],\n",
       " ['mlflow', 'mlflow'],\n",
       " ['open-mmlab', 'mmdetection'],\n",
       " ['blakeblackshear', 'frigate'],\n",
       " ['cupy', 'cupy'],\n",
       " ['jackfrued', 'Python-100-Days']]"
      ]
     },
     "execution_count": 77,
     "metadata": {},
     "output_type": "execute_result"
    }
   ],
   "source": [
    "[ [lista[i].split(\" \")[0],lista[i].split(\" \")[-1]] for i in range(len(tags3))]"
   ]
  },
  {
   "cell_type": "markdown",
   "metadata": {},
   "source": [
    "#### Display all the image links from Walt Disney wikipedia page"
   ]
  },
  {
   "cell_type": "code",
   "execution_count": 78,
   "metadata": {},
   "outputs": [],
   "source": [
    "# This is the url you will scrape in this exercise\n",
    "url = 'https://en.wikipedia.org/wiki/Walt_Disney'"
   ]
  },
  {
   "cell_type": "code",
   "execution_count": 79,
   "metadata": {},
   "outputs": [],
   "source": [
    "#your code\n",
    "html = requests.get(url)\n",
    "soup = BeautifulSoup(html.content,\"html.parser\")"
   ]
  },
  {
   "cell_type": "code",
   "execution_count": 127,
   "metadata": {},
   "outputs": [],
   "source": [
    "tags4 = soup.find_all(\"img\")"
   ]
  },
  {
   "cell_type": "code",
   "execution_count": 133,
   "metadata": {},
   "outputs": [],
   "source": [
    "links = [tags4[i].get(\"src\") for i in range(len(tags4))]\n",
    "#links"
   ]
  },
  {
   "cell_type": "markdown",
   "metadata": {},
   "source": [
    "#### Retrieve an arbitary Wikipedia page of \"Python\" and create a list of links on that page"
   ]
  },
  {
   "cell_type": "code",
   "execution_count": 144,
   "metadata": {},
   "outputs": [],
   "source": [
    "# This is the url you will scrape in this exercise\n",
    "url ='https://en.wikipedia.org/wiki/Python_(programming_language)' "
   ]
  },
  {
   "cell_type": "code",
   "execution_count": 145,
   "metadata": {},
   "outputs": [],
   "source": [
    "html = requests.get(url)\n",
    "soup = BeautifulSoup(html.content,\"html.parser\")"
   ]
  },
  {
   "cell_type": "code",
   "execution_count": 182,
   "metadata": {},
   "outputs": [],
   "source": [
    "tags5 = soup.find_all(\"a\")"
   ]
  },
  {
   "cell_type": "code",
   "execution_count": 190,
   "metadata": {},
   "outputs": [],
   "source": [
    "todos_links = [tags5[i].get(\"href\")  for i in range(len(tags5))]"
   ]
  },
  {
   "cell_type": "code",
   "execution_count": 192,
   "metadata": {},
   "outputs": [],
   "source": [
    "#todos_links"
   ]
  },
  {
   "cell_type": "markdown",
   "metadata": {},
   "source": [
    "#### Number of Titles that have changed in the United States Code since its last release point "
   ]
  },
  {
   "cell_type": "code",
   "execution_count": 195,
   "metadata": {},
   "outputs": [],
   "source": [
    "# This is the url you will scrape in this exercise\n",
    "url = 'http://uscode.house.gov/download/download.shtml'"
   ]
  },
  {
   "cell_type": "code",
   "execution_count": 196,
   "metadata": {},
   "outputs": [],
   "source": [
    "#your code\n",
    "html = requests.get(url)\n",
    "soup = BeautifulSoup(html.content,\"html.parser\")"
   ]
  },
  {
   "cell_type": "code",
   "execution_count": 199,
   "metadata": {},
   "outputs": [],
   "source": [
    "tags6 = soup.find_all(\"div\", {\"class\": \"usctitlechanged\"})"
   ]
  },
  {
   "cell_type": "code",
   "execution_count": 201,
   "metadata": {},
   "outputs": [
    {
     "data": {
      "text/plain": [
       "2"
      ]
     },
     "execution_count": 201,
     "metadata": {},
     "output_type": "execute_result"
    }
   ],
   "source": [
    "len(tags6)"
   ]
  },
  {
   "cell_type": "markdown",
   "metadata": {},
   "source": [
    "####  20 latest earthquakes info (date, time, latitude, longitude and region name) by the EMSC as a pandas dataframe"
   ]
  },
  {
   "cell_type": "code",
   "execution_count": 202,
   "metadata": {},
   "outputs": [],
   "source": [
    "# This is the url you will scrape in this exercise\n",
    "url = 'https://www.emsc-csem.org/Earthquake/'"
   ]
  },
  {
   "cell_type": "code",
   "execution_count": 203,
   "metadata": {},
   "outputs": [],
   "source": [
    "#your code\n",
    "html = requests.get(url)\n",
    "soup = BeautifulSoup(html.content,\"html.parser\")"
   ]
  },
  {
   "cell_type": "code",
   "execution_count": 215,
   "metadata": {},
   "outputs": [],
   "source": [
    "tabla = soup.findAll(\"table\")[3]"
   ]
  },
  {
   "cell_type": "code",
   "execution_count": 239,
   "metadata": {},
   "outputs": [
    {
     "data": {
      "text/plain": [
       "[<td class=\"tabev1\">0.56 </td>,\n",
       " <td class=\"tabev2\">N  </td>,\n",
       " <td class=\"tabev1\">121.18 </td>,\n",
       " <td class=\"tabev2\">E  </td>,\n",
       " <td class=\"tabev3\">67</td>,\n",
       " <td class=\"tabev5\" id=\"magtyp0\"> M</td>,\n",
       " <td class=\"tabev2\">3.0</td>,\n",
       " <td class=\"tb_region\" id=\"reg0\"> MINAHASA, SULAWESI, INDONESIA</td>,\n",
       " <td class=\"comment updatetimeno\" id=\"upd0\" style=\"text-align:right;\">2021-11-11 16:30</td>]"
      ]
     },
     "execution_count": 239,
     "metadata": {},
     "output_type": "execute_result"
    }
   ],
   "source": [
    "tabla.find_all(\"tr\")[5].find_all(\"td\")[4:]"
   ]
  },
  {
   "cell_type": "code",
   "execution_count": 241,
   "metadata": {},
   "outputs": [],
   "source": [
    "terrem = [tabla.find_all(\"tr\")[i].find_all(\"td\")[4:] for i in range(5,25)]"
   ]
  },
  {
   "cell_type": "code",
   "execution_count": 242,
   "metadata": {},
   "outputs": [
    {
     "data": {
      "text/html": [
       "<div>\n",
       "<style scoped>\n",
       "    .dataframe tbody tr th:only-of-type {\n",
       "        vertical-align: middle;\n",
       "    }\n",
       "\n",
       "    .dataframe tbody tr th {\n",
       "        vertical-align: top;\n",
       "    }\n",
       "\n",
       "    .dataframe thead th {\n",
       "        text-align: right;\n",
       "    }\n",
       "</style>\n",
       "<table border=\"1\" class=\"dataframe\">\n",
       "  <thead>\n",
       "    <tr style=\"text-align: right;\">\n",
       "      <th></th>\n",
       "      <th>0</th>\n",
       "      <th>1</th>\n",
       "      <th>2</th>\n",
       "      <th>3</th>\n",
       "      <th>4</th>\n",
       "      <th>5</th>\n",
       "      <th>6</th>\n",
       "      <th>7</th>\n",
       "      <th>8</th>\n",
       "    </tr>\n",
       "  </thead>\n",
       "  <tbody>\n",
       "    <tr>\n",
       "      <th>0</th>\n",
       "      <td>[0.56 ]</td>\n",
       "      <td>[N  ]</td>\n",
       "      <td>[121.18 ]</td>\n",
       "      <td>[E  ]</td>\n",
       "      <td>[67]</td>\n",
       "      <td>[ M]</td>\n",
       "      <td>[3.0]</td>\n",
       "      <td>[ MINAHASA, SULAWESI, INDONESIA]</td>\n",
       "      <td>[2021-11-11 16:30]</td>\n",
       "    </tr>\n",
       "    <tr>\n",
       "      <th>1</th>\n",
       "      <td>[38.87 ]</td>\n",
       "      <td>[N  ]</td>\n",
       "      <td>[31.08 ]</td>\n",
       "      <td>[E  ]</td>\n",
       "      <td>[7]</td>\n",
       "      <td>[ML]</td>\n",
       "      <td>[2.4]</td>\n",
       "      <td>[ WESTERN TURKEY]</td>\n",
       "      <td>[2021-11-11 16:25]</td>\n",
       "    </tr>\n",
       "    <tr>\n",
       "      <th>2</th>\n",
       "      <td>[38.73 ]</td>\n",
       "      <td>[N  ]</td>\n",
       "      <td>[27.81 ]</td>\n",
       "      <td>[E  ]</td>\n",
       "      <td>[7]</td>\n",
       "      <td>[ML]</td>\n",
       "      <td>[2.1]</td>\n",
       "      <td>[ WESTERN TURKEY]</td>\n",
       "      <td>[2021-11-11 16:39]</td>\n",
       "    </tr>\n",
       "    <tr>\n",
       "      <th>3</th>\n",
       "      <td>[21.77 ]</td>\n",
       "      <td>[S  ]</td>\n",
       "      <td>[68.68 ]</td>\n",
       "      <td>[W  ]</td>\n",
       "      <td>[101]</td>\n",
       "      <td>[ M]</td>\n",
       "      <td>[3.4]</td>\n",
       "      <td>[ ANTOFAGASTA, CHILE]</td>\n",
       "      <td>[2021-11-11 16:10]</td>\n",
       "    </tr>\n",
       "    <tr>\n",
       "      <th>4</th>\n",
       "      <td>[12.44 ]</td>\n",
       "      <td>[N  ]</td>\n",
       "      <td>[87.94 ]</td>\n",
       "      <td>[W  ]</td>\n",
       "      <td>[38]</td>\n",
       "      <td>[ M]</td>\n",
       "      <td>[3.2]</td>\n",
       "      <td>[ NEAR COAST OF NICARAGUA]</td>\n",
       "      <td>[2021-11-11 16:11]</td>\n",
       "    </tr>\n",
       "    <tr>\n",
       "      <th>5</th>\n",
       "      <td>[8.91 ]</td>\n",
       "      <td>[S  ]</td>\n",
       "      <td>[124.12 ]</td>\n",
       "      <td>[E  ]</td>\n",
       "      <td>[52]</td>\n",
       "      <td>[ M]</td>\n",
       "      <td>[2.6]</td>\n",
       "      <td>[ KEPULAUAN ALOR, INDONESIA]</td>\n",
       "      <td>[2021-11-11 16:01]</td>\n",
       "    </tr>\n",
       "    <tr>\n",
       "      <th>6</th>\n",
       "      <td>[1.65 ]</td>\n",
       "      <td>[S  ]</td>\n",
       "      <td>[127.30 ]</td>\n",
       "      <td>[E  ]</td>\n",
       "      <td>[150]</td>\n",
       "      <td>[ M]</td>\n",
       "      <td>[3.4]</td>\n",
       "      <td>[ KEPULAUAN OBI, INDONESIA]</td>\n",
       "      <td>[2021-11-11 15:50]</td>\n",
       "    </tr>\n",
       "    <tr>\n",
       "      <th>7</th>\n",
       "      <td>[28.55 ]</td>\n",
       "      <td>[N  ]</td>\n",
       "      <td>[17.84 ]</td>\n",
       "      <td>[W  ]</td>\n",
       "      <td>[10]</td>\n",
       "      <td>[ML]</td>\n",
       "      <td>[2.7]</td>\n",
       "      <td>[ CANARY ISLANDS, SPAIN REGION]</td>\n",
       "      <td>[2021-11-11 15:38]</td>\n",
       "    </tr>\n",
       "    <tr>\n",
       "      <th>8</th>\n",
       "      <td>[2.84 ]</td>\n",
       "      <td>[S  ]</td>\n",
       "      <td>[129.29 ]</td>\n",
       "      <td>[E  ]</td>\n",
       "      <td>[10]</td>\n",
       "      <td>[ M]</td>\n",
       "      <td>[2.6]</td>\n",
       "      <td>[ SERAM, INDONESIA]</td>\n",
       "      <td>[2021-11-11 15:40]</td>\n",
       "    </tr>\n",
       "    <tr>\n",
       "      <th>9</th>\n",
       "      <td>[0.44 ]</td>\n",
       "      <td>[N  ]</td>\n",
       "      <td>[124.19 ]</td>\n",
       "      <td>[E  ]</td>\n",
       "      <td>[46]</td>\n",
       "      <td>[ M]</td>\n",
       "      <td>[2.7]</td>\n",
       "      <td>[ MINAHASA, SULAWESI, INDONESIA]</td>\n",
       "      <td>[2021-11-11 15:41]</td>\n",
       "    </tr>\n",
       "    <tr>\n",
       "      <th>10</th>\n",
       "      <td>[23.51 ]</td>\n",
       "      <td>[S  ]</td>\n",
       "      <td>[66.84 ]</td>\n",
       "      <td>[W  ]</td>\n",
       "      <td>[217]</td>\n",
       "      <td>[ M]</td>\n",
       "      <td>[3.1]</td>\n",
       "      <td>[ JUJUY, ARGENTINA]</td>\n",
       "      <td>[2021-11-11 15:21]</td>\n",
       "    </tr>\n",
       "    <tr>\n",
       "      <th>11</th>\n",
       "      <td>[18.51 ]</td>\n",
       "      <td>[N  ]</td>\n",
       "      <td>[65.55 ]</td>\n",
       "      <td>[W  ]</td>\n",
       "      <td>[92]</td>\n",
       "      <td>[Md]</td>\n",
       "      <td>[3.4]</td>\n",
       "      <td>[ PUERTO RICO REGION]</td>\n",
       "      <td>[2021-11-11 15:31]</td>\n",
       "    </tr>\n",
       "    <tr>\n",
       "      <th>12</th>\n",
       "      <td>[38.84 ]</td>\n",
       "      <td>[N  ]</td>\n",
       "      <td>[122.75 ]</td>\n",
       "      <td>[W  ]</td>\n",
       "      <td>[0]</td>\n",
       "      <td>[Ml]</td>\n",
       "      <td>[3.3]</td>\n",
       "      <td>[ NORTHERN CALIFORNIA]</td>\n",
       "      <td>[2021-11-11 15:07]</td>\n",
       "    </tr>\n",
       "    <tr>\n",
       "      <th>13</th>\n",
       "      <td>[28.56 ]</td>\n",
       "      <td>[N  ]</td>\n",
       "      <td>[17.87 ]</td>\n",
       "      <td>[W  ]</td>\n",
       "      <td>[9]</td>\n",
       "      <td>[ML]</td>\n",
       "      <td>[2.3]</td>\n",
       "      <td>[ CANARY ISLANDS, SPAIN REGION]</td>\n",
       "      <td>[2021-11-11 15:07]</td>\n",
       "    </tr>\n",
       "    <tr>\n",
       "      <th>14</th>\n",
       "      <td>[31.24 ]</td>\n",
       "      <td>[S  ]</td>\n",
       "      <td>[68.57 ]</td>\n",
       "      <td>[W  ]</td>\n",
       "      <td>[84]</td>\n",
       "      <td>[ M]</td>\n",
       "      <td>[3.4]</td>\n",
       "      <td>[ SAN JUAN, ARGENTINA]</td>\n",
       "      <td>[2021-11-11 15:06]</td>\n",
       "    </tr>\n",
       "    <tr>\n",
       "      <th>15</th>\n",
       "      <td>[18.57 ]</td>\n",
       "      <td>[N  ]</td>\n",
       "      <td>[66.09 ]</td>\n",
       "      <td>[W  ]</td>\n",
       "      <td>[69]</td>\n",
       "      <td>[Md]</td>\n",
       "      <td>[2.8]</td>\n",
       "      <td>[ PUERTO RICO REGION]</td>\n",
       "      <td>[2021-11-11 15:20]</td>\n",
       "    </tr>\n",
       "    <tr>\n",
       "      <th>16</th>\n",
       "      <td>[23.99 ]</td>\n",
       "      <td>[S  ]</td>\n",
       "      <td>[67.16 ]</td>\n",
       "      <td>[W  ]</td>\n",
       "      <td>[199]</td>\n",
       "      <td>[ M]</td>\n",
       "      <td>[3.1]</td>\n",
       "      <td>[ SALTA, ARGENTINA]</td>\n",
       "      <td>[2021-11-11 15:21]</td>\n",
       "    </tr>\n",
       "    <tr>\n",
       "      <th>17</th>\n",
       "      <td>[38.51 ]</td>\n",
       "      <td>[N  ]</td>\n",
       "      <td>[12.82 ]</td>\n",
       "      <td>[E  ]</td>\n",
       "      <td>[10]</td>\n",
       "      <td>[ML]</td>\n",
       "      <td>[2.3]</td>\n",
       "      <td>[ SICILY, ITALY]</td>\n",
       "      <td>[2021-11-11 14:59]</td>\n",
       "    </tr>\n",
       "    <tr>\n",
       "      <th>18</th>\n",
       "      <td>[37.39 ]</td>\n",
       "      <td>[N  ]</td>\n",
       "      <td>[35.05 ]</td>\n",
       "      <td>[E  ]</td>\n",
       "      <td>[7]</td>\n",
       "      <td>[ML]</td>\n",
       "      <td>[2.2]</td>\n",
       "      <td>[ CENTRAL TURKEY]</td>\n",
       "      <td>[2021-11-11 14:36]</td>\n",
       "    </tr>\n",
       "    <tr>\n",
       "      <th>19</th>\n",
       "      <td>[19.17 ]</td>\n",
       "      <td>[N  ]</td>\n",
       "      <td>[155.47 ]</td>\n",
       "      <td>[W  ]</td>\n",
       "      <td>[29]</td>\n",
       "      <td>[Md]</td>\n",
       "      <td>[2.4]</td>\n",
       "      <td>[ ISLAND OF HAWAII, HAWAII]</td>\n",
       "      <td>[2021-11-11 14:22]</td>\n",
       "    </tr>\n",
       "  </tbody>\n",
       "</table>\n",
       "</div>"
      ],
      "text/plain": [
       "           0      1          2      3      4     5      6  \\\n",
       "0    [0.56 ]  [N  ]  [121.18 ]  [E  ]   [67]  [ M]  [3.0]   \n",
       "1   [38.87 ]  [N  ]   [31.08 ]  [E  ]    [7]  [ML]  [2.4]   \n",
       "2   [38.73 ]  [N  ]   [27.81 ]  [E  ]    [7]  [ML]  [2.1]   \n",
       "3   [21.77 ]  [S  ]   [68.68 ]  [W  ]  [101]  [ M]  [3.4]   \n",
       "4   [12.44 ]  [N  ]   [87.94 ]  [W  ]   [38]  [ M]  [3.2]   \n",
       "5    [8.91 ]  [S  ]  [124.12 ]  [E  ]   [52]  [ M]  [2.6]   \n",
       "6    [1.65 ]  [S  ]  [127.30 ]  [E  ]  [150]  [ M]  [3.4]   \n",
       "7   [28.55 ]  [N  ]   [17.84 ]  [W  ]   [10]  [ML]  [2.7]   \n",
       "8    [2.84 ]  [S  ]  [129.29 ]  [E  ]   [10]  [ M]  [2.6]   \n",
       "9    [0.44 ]  [N  ]  [124.19 ]  [E  ]   [46]  [ M]  [2.7]   \n",
       "10  [23.51 ]  [S  ]   [66.84 ]  [W  ]  [217]  [ M]  [3.1]   \n",
       "11  [18.51 ]  [N  ]   [65.55 ]  [W  ]   [92]  [Md]  [3.4]   \n",
       "12  [38.84 ]  [N  ]  [122.75 ]  [W  ]    [0]  [Ml]  [3.3]   \n",
       "13  [28.56 ]  [N  ]   [17.87 ]  [W  ]    [9]  [ML]  [2.3]   \n",
       "14  [31.24 ]  [S  ]   [68.57 ]  [W  ]   [84]  [ M]  [3.4]   \n",
       "15  [18.57 ]  [N  ]   [66.09 ]  [W  ]   [69]  [Md]  [2.8]   \n",
       "16  [23.99 ]  [S  ]   [67.16 ]  [W  ]  [199]  [ M]  [3.1]   \n",
       "17  [38.51 ]  [N  ]   [12.82 ]  [E  ]   [10]  [ML]  [2.3]   \n",
       "18  [37.39 ]  [N  ]   [35.05 ]  [E  ]    [7]  [ML]  [2.2]   \n",
       "19  [19.17 ]  [N  ]  [155.47 ]  [W  ]   [29]  [Md]  [2.4]   \n",
       "\n",
       "                                   7                   8  \n",
       "0   [ MINAHASA, SULAWESI, INDONESIA]  [2021-11-11 16:30]  \n",
       "1                  [ WESTERN TURKEY]  [2021-11-11 16:25]  \n",
       "2                  [ WESTERN TURKEY]  [2021-11-11 16:39]  \n",
       "3              [ ANTOFAGASTA, CHILE]  [2021-11-11 16:10]  \n",
       "4         [ NEAR COAST OF NICARAGUA]  [2021-11-11 16:11]  \n",
       "5       [ KEPULAUAN ALOR, INDONESIA]  [2021-11-11 16:01]  \n",
       "6        [ KEPULAUAN OBI, INDONESIA]  [2021-11-11 15:50]  \n",
       "7    [ CANARY ISLANDS, SPAIN REGION]  [2021-11-11 15:38]  \n",
       "8                [ SERAM, INDONESIA]  [2021-11-11 15:40]  \n",
       "9   [ MINAHASA, SULAWESI, INDONESIA]  [2021-11-11 15:41]  \n",
       "10               [ JUJUY, ARGENTINA]  [2021-11-11 15:21]  \n",
       "11             [ PUERTO RICO REGION]  [2021-11-11 15:31]  \n",
       "12            [ NORTHERN CALIFORNIA]  [2021-11-11 15:07]  \n",
       "13   [ CANARY ISLANDS, SPAIN REGION]  [2021-11-11 15:07]  \n",
       "14            [ SAN JUAN, ARGENTINA]  [2021-11-11 15:06]  \n",
       "15             [ PUERTO RICO REGION]  [2021-11-11 15:20]  \n",
       "16               [ SALTA, ARGENTINA]  [2021-11-11 15:21]  \n",
       "17                  [ SICILY, ITALY]  [2021-11-11 14:59]  \n",
       "18                 [ CENTRAL TURKEY]  [2021-11-11 14:36]  \n",
       "19       [ ISLAND OF HAWAII, HAWAII]  [2021-11-11 14:22]  "
      ]
     },
     "execution_count": 242,
     "metadata": {},
     "output_type": "execute_result"
    }
   ],
   "source": [
    "df = pd.DataFrame(terrem)\n",
    "df"
   ]
  },
  {
   "cell_type": "markdown",
   "metadata": {},
   "source": [
    "# este no:"
   ]
  },
  {
   "cell_type": "markdown",
   "metadata": {},
   "source": [
    "#### Display the date, days, title, city, country of next 25 hackathon events as a Pandas dataframe table"
   ]
  },
  {
   "cell_type": "code",
   "execution_count": null,
   "metadata": {},
   "outputs": [],
   "source": [
    "# This is the url you will scrape in this exercise\n",
    "url ='https://hackevents.co/hackathons'\n",
    "url_hack = 'https://hackevents.co/search/anything/anywhere/anytime' "
   ]
  },
  {
   "cell_type": "code",
   "execution_count": null,
   "metadata": {},
   "outputs": [],
   "source": [
    "#your code\n"
   ]
  },
  {
   "cell_type": "markdown",
   "metadata": {},
   "source": [
    "nnnooooooooooooooooooooooooooooooooooooooooooooooooooooo"
   ]
  },
  {
   "cell_type": "markdown",
   "metadata": {},
   "source": [
    "#### List all language names and number of related articles in the order they appear in wikipedia.org"
   ]
  },
  {
   "cell_type": "code",
   "execution_count": 285,
   "metadata": {},
   "outputs": [],
   "source": [
    "# This is the url you will scrape in this exercise\n",
    "url = 'https://www.wikipedia.org/'"
   ]
  },
  {
   "cell_type": "code",
   "execution_count": 286,
   "metadata": {},
   "outputs": [],
   "source": [
    "html = requests.get(url)\n",
    "soup = BeautifulSoup(html.content,\"html.parser\")"
   ]
  },
  {
   "cell_type": "code",
   "execution_count": 305,
   "metadata": {},
   "outputs": [],
   "source": [
    "leng = soup.find_all(\"strong\")"
   ]
  },
  {
   "cell_type": "code",
   "execution_count": 307,
   "metadata": {},
   "outputs": [],
   "source": [
    "lisleng = list(soup.find_all(\"strong\"))"
   ]
  },
  {
   "cell_type": "code",
   "execution_count": 309,
   "metadata": {},
   "outputs": [
    {
     "data": {
      "text/plain": [
       "[<strong class=\"jsl10n localized-slogan\" data-jsl10n=\"portal.slogan\">The Free Encyclopedia</strong>,\n",
       " <strong>English</strong>,\n",
       " <strong>日本語</strong>,\n",
       " <strong>Русский</strong>,\n",
       " <strong>Deutsch</strong>,\n",
       " <strong>Español</strong>,\n",
       " <strong>Français</strong>,\n",
       " <strong>中文</strong>,\n",
       " <strong>Italiano</strong>,\n",
       " <strong>Português</strong>,\n",
       " <strong>Polski</strong>,\n",
       " <strong class=\"jsl10n\" data-jsl10n=\"portal.app-links.title\">\n",
       " <a class=\"jsl10n\" data-jsl10n=\"portal.app-links.url\" href=\"https://en.wikipedia.org/wiki/List_of_Wikipedia_mobile_applications\">\n",
       " Download Wikipedia for Android or iOS\n",
       " </a>\n",
       " </strong>]"
      ]
     },
     "execution_count": 309,
     "metadata": {},
     "output_type": "execute_result"
    }
   ],
   "source": [
    "lisleng"
   ]
  },
  {
   "cell_type": "code",
   "execution_count": 311,
   "metadata": {},
   "outputs": [
    {
     "data": {
      "text/plain": [
       "['English',\n",
       " '日本語',\n",
       " 'Русский',\n",
       " 'Deutsch',\n",
       " 'Español',\n",
       " 'Français',\n",
       " '中文',\n",
       " 'Italiano',\n",
       " 'Português',\n",
       " 'Polski']"
      ]
     },
     "execution_count": 311,
     "metadata": {},
     "output_type": "execute_result"
    }
   ],
   "source": [
    "resp = [leng[i].getText() for i in range(1,11)]\n",
    "resp"
   ]
  },
  {
   "cell_type": "code",
   "execution_count": 291,
   "metadata": {},
   "outputs": [],
   "source": [
    "numer = soup.find_all(\"bdi\")"
   ]
  },
  {
   "cell_type": "code",
   "execution_count": 318,
   "metadata": {},
   "outputs": [
    {
     "data": {
      "text/plain": [
       "[['6', '383', '000+'],\n",
       " ['1', '292', '000+'],\n",
       " ['1', '756', '000+'],\n",
       " ['2', '617', '000+'],\n",
       " ['1', '717', '000+'],\n",
       " ['2', '362', '000+'],\n",
       " ['1', '231', '000+'],\n",
       " ['1', '718', '000+'],\n",
       " ['1', '074', '000+'],\n",
       " ['1', '490', '000+']]"
      ]
     },
     "execution_count": 318,
     "metadata": {},
     "output_type": "execute_result"
    }
   ],
   "source": [
    "resp2=[list(numer)[i].getText().strip().split(\"\\xa0\") for i in range(0,10)]\n",
    "resp2"
   ]
  },
  {
   "cell_type": "code",
   "execution_count": 319,
   "metadata": {},
   "outputs": [
    {
     "data": {
      "text/plain": [
       "['6383000+',\n",
       " '1292000+',\n",
       " '1756000+',\n",
       " '2617000+',\n",
       " '1717000+',\n",
       " '2362000+',\n",
       " '1231000+',\n",
       " '1718000+',\n",
       " '1074000+',\n",
       " '1490000+']"
      ]
     },
     "execution_count": 319,
     "metadata": {},
     "output_type": "execute_result"
    }
   ],
   "source": [
    "resp3=[]\n",
    "for i in resp2:\n",
    "    resp3.append(i[0]+i[1]+i[2])\n",
    "resp3"
   ]
  },
  {
   "cell_type": "code",
   "execution_count": 322,
   "metadata": {},
   "outputs": [
    {
     "data": {
      "text/plain": [
       "[['English', '6383000+'],\n",
       " ['日本語', '1292000+'],\n",
       " ['Русский', '1756000+'],\n",
       " ['Deutsch', '2617000+'],\n",
       " ['Español', '1717000+'],\n",
       " ['Français', '2362000+'],\n",
       " ['中文', '1231000+'],\n",
       " ['Italiano', '1718000+'],\n",
       " ['Português', '1074000+'],\n",
       " ['Polski', '1490000+']]"
      ]
     },
     "execution_count": 322,
     "metadata": {},
     "output_type": "execute_result"
    }
   ],
   "source": [
    "final=[]\n",
    "for i in range(len(resp)):\n",
    "    final.append([resp[i],resp3[i]])\n",
    "final"
   ]
  },
  {
   "cell_type": "markdown",
   "metadata": {},
   "source": [
    "#### A list with the different kind of datasets available in data.gov.uk "
   ]
  },
  {
   "cell_type": "code",
   "execution_count": 259,
   "metadata": {},
   "outputs": [],
   "source": [
    "# This is the url you will scrape in this exercise\n",
    "url = 'https://data.gov.uk/'"
   ]
  },
  {
   "cell_type": "code",
   "execution_count": 260,
   "metadata": {},
   "outputs": [],
   "source": [
    "html = requests.get(url)\n",
    "soup = BeautifulSoup(html.content,\"html.parser\")"
   ]
  },
  {
   "cell_type": "code",
   "execution_count": 261,
   "metadata": {},
   "outputs": [],
   "source": [
    "tags = soup.find_all(\"a\", {\"class\": \"govuk-link\"})\n",
    "#tags"
   ]
  },
  {
   "cell_type": "code",
   "execution_count": 262,
   "metadata": {},
   "outputs": [
    {
     "data": {
      "text/plain": [
       "['cookies to collect information',\n",
       " 'View cookies',\n",
       " 'change your cookie settings',\n",
       " 'feedback',\n",
       " 'Business and economy',\n",
       " 'Crime and justice',\n",
       " 'Defence',\n",
       " 'Education',\n",
       " 'Environment',\n",
       " 'Government',\n",
       " 'Government spending',\n",
       " 'Health',\n",
       " 'Mapping',\n",
       " 'Society',\n",
       " 'Towns and cities',\n",
       " 'Transport',\n",
       " 'Digital service performance',\n",
       " 'Government reference data']"
      ]
     },
     "execution_count": 262,
     "metadata": {},
     "output_type": "execute_result"
    }
   ],
   "source": [
    "lista = [tag.getText()for tag in tags]\n",
    "lista"
   ]
  },
  {
   "cell_type": "markdown",
   "metadata": {},
   "source": [
    "#### Top 10 languages by number of native speakers stored in a Pandas Dataframe"
   ]
  },
  {
   "cell_type": "code",
   "execution_count": 280,
   "metadata": {},
   "outputs": [],
   "source": [
    "# This is the url you will scrape in this exercise\n",
    "url = 'https://en.wikipedia.org/wiki/List_of_languages_by_number_of_native_speakers'"
   ]
  },
  {
   "cell_type": "code",
   "execution_count": 281,
   "metadata": {},
   "outputs": [],
   "source": [
    "html = requests.get(url)\n",
    "soup = BeautifulSoup(html.content,\"html.parser\")"
   ]
  },
  {
   "cell_type": "code",
   "execution_count": 282,
   "metadata": {},
   "outputs": [],
   "source": [
    "idiomas = soup.findAll(\"table\")[-9]\n",
    "#idiomas"
   ]
  },
  {
   "cell_type": "code",
   "execution_count": 283,
   "metadata": {},
   "outputs": [],
   "source": [
    "lista_idiom=[]\n",
    "for f in idiomas.find_all(\"tr\"):\n",
    "    fila = [elemento for elemento in f.find_all(\"td\")]\n",
    "    if len(fila) > 1:\n",
    "        diccionario_2 = {\"Lengua\": fila[1].find(\"a\").getText().strip(),\n",
    "                      \"Hablantes\":(fila[2].text).strip()}\n",
    "        lista_idiom.append(diccionario_2)"
   ]
  },
  {
   "cell_type": "code",
   "execution_count": 284,
   "metadata": {},
   "outputs": [
    {
     "data": {
      "text/html": [
       "<div>\n",
       "<style scoped>\n",
       "    .dataframe tbody tr th:only-of-type {\n",
       "        vertical-align: middle;\n",
       "    }\n",
       "\n",
       "    .dataframe tbody tr th {\n",
       "        vertical-align: top;\n",
       "    }\n",
       "\n",
       "    .dataframe thead th {\n",
       "        text-align: right;\n",
       "    }\n",
       "</style>\n",
       "<table border=\"1\" class=\"dataframe\">\n",
       "  <thead>\n",
       "    <tr style=\"text-align: right;\">\n",
       "      <th></th>\n",
       "      <th>Lengua</th>\n",
       "      <th>Hablantes</th>\n",
       "    </tr>\n",
       "  </thead>\n",
       "  <tbody>\n",
       "    <tr>\n",
       "      <th>0</th>\n",
       "      <td>Mandarin Chinese</td>\n",
       "      <td>918</td>\n",
       "    </tr>\n",
       "    <tr>\n",
       "      <th>1</th>\n",
       "      <td>Spanish</td>\n",
       "      <td>480</td>\n",
       "    </tr>\n",
       "    <tr>\n",
       "      <th>2</th>\n",
       "      <td>English</td>\n",
       "      <td>379</td>\n",
       "    </tr>\n",
       "    <tr>\n",
       "      <th>3</th>\n",
       "      <td>Hindi</td>\n",
       "      <td>341</td>\n",
       "    </tr>\n",
       "    <tr>\n",
       "      <th>4</th>\n",
       "      <td>Bengali</td>\n",
       "      <td>300</td>\n",
       "    </tr>\n",
       "    <tr>\n",
       "      <th>5</th>\n",
       "      <td>Portuguese</td>\n",
       "      <td>221</td>\n",
       "    </tr>\n",
       "    <tr>\n",
       "      <th>6</th>\n",
       "      <td>Russian</td>\n",
       "      <td>154</td>\n",
       "    </tr>\n",
       "    <tr>\n",
       "      <th>7</th>\n",
       "      <td>Japanese</td>\n",
       "      <td>128</td>\n",
       "    </tr>\n",
       "    <tr>\n",
       "      <th>8</th>\n",
       "      <td>Western Punjabi</td>\n",
       "      <td>92.7</td>\n",
       "    </tr>\n",
       "    <tr>\n",
       "      <th>9</th>\n",
       "      <td>Marathi</td>\n",
       "      <td>83.1</td>\n",
       "    </tr>\n",
       "  </tbody>\n",
       "</table>\n",
       "</div>"
      ],
      "text/plain": [
       "             Lengua Hablantes\n",
       "0  Mandarin Chinese       918\n",
       "1           Spanish       480\n",
       "2           English       379\n",
       "3             Hindi       341\n",
       "4           Bengali       300\n",
       "5        Portuguese       221\n",
       "6           Russian       154\n",
       "7          Japanese       128\n",
       "8   Western Punjabi      92.7\n",
       "9           Marathi      83.1"
      ]
     },
     "execution_count": 284,
     "metadata": {},
     "output_type": "execute_result"
    }
   ],
   "source": [
    "df = pd.DataFrame(lista_idiom[:10])\n",
    "df"
   ]
  },
  {
   "cell_type": "markdown",
   "metadata": {},
   "source": [
    "### BONUS QUESTIONS"
   ]
  },
  {
   "cell_type": "markdown",
   "metadata": {},
   "source": [
    "#### IMDB's Top 250 data (movie name, Initial release, director name and stars) as a pandas dataframe"
   ]
  },
  {
   "cell_type": "code",
   "execution_count": 323,
   "metadata": {},
   "outputs": [],
   "source": [
    "# This is the url you will scrape in this exercise \n",
    "url = 'https://www.imdb.com/chart/top'\n",
    "html = requests.get(url)\n",
    "soup = BeautifulSoup(html.content,\"html.parser\")"
   ]
  },
  {
   "cell_type": "code",
   "execution_count": 327,
   "metadata": {},
   "outputs": [],
   "source": [
    "# your code\n",
    "tags = soup.find_all(\"tr\")"
   ]
  },
  {
   "cell_type": "code",
   "execution_count": 347,
   "metadata": {},
   "outputs": [],
   "source": [
    "urls = [ tags[i].find_all(\"td\")[1].find(\"a\").get(\"href\")  for i in range(1,len(tags))]"
   ]
  },
  {
   "cell_type": "code",
   "execution_count": 349,
   "metadata": {},
   "outputs": [
    {
     "data": {
      "text/plain": [
       "250"
      ]
     },
     "execution_count": 349,
     "metadata": {},
     "output_type": "execute_result"
    }
   ],
   "source": [
    "len(urls)"
   ]
  },
  {
   "cell_type": "code",
   "execution_count": 373,
   "metadata": {},
   "outputs": [
    {
     "data": {
      "text/plain": [
       "['Frank Darabont (dir.), Tim Robbins, Morgan Freeman',\n",
       " 'Francis Ford Coppola (dir.), Marlon Brando, Al Pacino',\n",
       " 'Francis Ford Coppola (dir.), Al Pacino, Robert De Niro',\n",
       " 'Christopher Nolan (dir.), Christian Bale, Heath Ledger',\n",
       " 'Sidney Lumet (dir.), Henry Fonda, Lee J. Cobb',\n",
       " 'Steven Spielberg (dir.), Liam Neeson, Ralph Fiennes',\n",
       " 'Peter Jackson (dir.), Elijah Wood, Viggo Mortensen',\n",
       " 'Quentin Tarantino (dir.), John Travolta, Uma Thurman',\n",
       " 'Sergio Leone (dir.), Clint Eastwood, Eli Wallach',\n",
       " 'Peter Jackson (dir.), Elijah Wood, Ian McKellen',\n",
       " 'David Fincher (dir.), Brad Pitt, Edward Norton',\n",
       " 'Robert Zemeckis (dir.), Tom Hanks, Robin Wright',\n",
       " 'Christopher Nolan (dir.), Leonardo DiCaprio, Joseph Gordon-Levitt',\n",
       " 'Peter Jackson (dir.), Elijah Wood, Ian McKellen',\n",
       " 'Irvin Kershner (dir.), Mark Hamill, Harrison Ford',\n",
       " 'Lana Wachowski (dir.), Keanu Reeves, Laurence Fishburne',\n",
       " 'Martin Scorsese (dir.), Robert De Niro, Ray Liotta',\n",
       " 'Milos Forman (dir.), Jack Nicholson, Louise Fletcher',\n",
       " 'Akira Kurosawa (dir.), Toshirô Mifune, Takashi Shimura',\n",
       " 'David Fincher (dir.), Morgan Freeman, Brad Pitt',\n",
       " 'Jonathan Demme (dir.), Jodie Foster, Anthony Hopkins',\n",
       " 'Fernando Meirelles (dir.), Alexandre Rodrigues, Leandro Firmino',\n",
       " 'Roberto Benigni (dir.), Roberto Benigni, Nicoletta Braschi',\n",
       " 'Frank Capra (dir.), James Stewart, Donna Reed',\n",
       " 'George Lucas (dir.), Mark Hamill, Harrison Ford',\n",
       " 'Steven Spielberg (dir.), Tom Hanks, Matt Damon',\n",
       " 'Christopher Nolan (dir.), Matthew McConaughey, Anne Hathaway',\n",
       " 'Hayao Miyazaki (dir.), Daveigh Chase, Suzanne Pleshette',\n",
       " 'Frank Darabont (dir.), Tom Hanks, Michael Clarke Duncan',\n",
       " 'Bong Joon Ho (dir.), Kang-ho Song, Sun-kyun Lee',\n",
       " 'Luc Besson (dir.), Jean Reno, Gary Oldman',\n",
       " 'Masaki Kobayashi (dir.), Tatsuya Nakadai, Akira Ishihama',\n",
       " 'Roman Polanski (dir.), Adrien Brody, Thomas Kretschmann',\n",
       " 'James Cameron (dir.), Arnold Schwarzenegger, Linda Hamilton',\n",
       " 'Bryan Singer (dir.), Kevin Spacey, Gabriel Byrne',\n",
       " 'Robert Zemeckis (dir.), Michael J. Fox, Christopher Lloyd',\n",
       " 'Alfred Hitchcock (dir.), Anthony Perkins, Janet Leigh',\n",
       " 'Roger Allers (dir.), Matthew Broderick, Jeremy Irons',\n",
       " 'Charles Chaplin (dir.), Charles Chaplin, Paulette Goddard',\n",
       " 'Tony Kaye (dir.), Edward Norton, Edward Furlong',\n",
       " 'Isao Takahata (dir.), Tsutomu Tatsumi, Ayano Shiraishi',\n",
       " 'Charles Chaplin (dir.), Charles Chaplin, Virginia Cherrill',\n",
       " 'Damien Chazelle (dir.), Miles Teller, J.K. Simmons',\n",
       " 'Ridley Scott (dir.), Russell Crowe, Joaquin Phoenix',\n",
       " 'Martin Scorsese (dir.), Leonardo DiCaprio, Matt Damon',\n",
       " 'Olivier Nakache (dir.), François Cluzet, Omar Sy',\n",
       " 'Christopher Nolan (dir.), Christian Bale, Hugh Jackman',\n",
       " 'Michael Curtiz (dir.), Humphrey Bogart, Ingrid Bergman',\n",
       " 'Sergio Leone (dir.), Henry Fonda, Charles Bronson',\n",
       " 'Alfred Hitchcock (dir.), James Stewart, Grace Kelly',\n",
       " 'Giuseppe Tornatore (dir.), Philippe Noiret, Enzo Cannavale',\n",
       " 'Ridley Scott (dir.), Sigourney Weaver, Tom Skerritt',\n",
       " 'Francis Ford Coppola (dir.), Martin Sheen, Marlon Brando',\n",
       " 'Christopher Nolan (dir.), Guy Pearce, Carrie-Anne Moss',\n",
       " 'Steven Spielberg (dir.), Harrison Ford, Karen Allen',\n",
       " 'Charles Chaplin (dir.), Charles Chaplin, Paulette Goddard',\n",
       " 'Florian Henckel von Donnersmarck (dir.), Ulrich Mühe, Martina Gedeck',\n",
       " 'Quentin Tarantino (dir.), Jamie Foxx, Christoph Waltz',\n",
       " 'Stanley Kubrick (dir.), Kirk Douglas, Ralph Meeker',\n",
       " 'Billy Wilder (dir.), William Holden, Gloria Swanson',\n",
       " 'Andrew Stanton (dir.), Ben Burtt, Elissa Knight',\n",
       " 'Anthony Russo (dir.), Robert Downey Jr., Chris Hemsworth',\n",
       " 'Billy Wilder (dir.), Tyrone Power, Marlene Dietrich',\n",
       " 'Stanley Kubrick (dir.), Jack Nicholson, Shelley Duvall',\n",
       " 'Bob Persichetti (dir.), Shameik Moore, Jake Johnson',\n",
       " 'Stanley Kubrick (dir.), Peter Sellers, George C. Scott',\n",
       " 'Todd Phillips (dir.), Joaquin Phoenix, Robert De Niro',\n",
       " 'Hayao Miyazaki (dir.), Yôji Matsuda, Yuriko Ishida',\n",
       " 'Park Chan-Wook (dir.), Choi Min-sik, Yoo Ji-Tae',\n",
       " 'Makoto Shinkai (dir.), Ryûnosuke Kamiki, Mone Kamishiraishi',\n",
       " 'Christopher Nolan (dir.), Christian Bale, Tom Hardy',\n",
       " 'Lee Unkrich (dir.), Anthony Gonzalez, Gael García Bernal',\n",
       " 'James Cameron (dir.), Sigourney Weaver, Michael Biehn',\n",
       " 'Sergio Leone (dir.), Robert De Niro, James Woods',\n",
       " 'Nadine Labaki (dir.), Zain Al Rafeea, Yordanos Shiferaw',\n",
       " 'Anthony Russo (dir.), Robert Downey Jr., Chris Evans',\n",
       " 'Wolfgang Petersen (dir.), Jürgen Prochnow, Herbert Grönemeyer',\n",
       " 'Akira Kurosawa (dir.), Toshirô Mifune, Yutaka Sada',\n",
       " 'Sam Mendes (dir.), Kevin Spacey, Annette Bening',\n",
       " 'John Lasseter (dir.), Tom Hanks, Tim Allen',\n",
       " 'Rajkumar Hirani (dir.), Aamir Khan, Madhavan',\n",
       " 'Milos Forman (dir.), F. Murray Abraham, Tom Hulce',\n",
       " 'Thomas Kail (dir.), Lin-Manuel Miranda, Phillipa Soo',\n",
       " 'Mel Gibson (dir.), Mel Gibson, Sophie Marceau',\n",
       " 'Quentin Tarantino (dir.), Brad Pitt, Diane Kruger',\n",
       " 'Gus Van Sant (dir.), Robin Williams, Matt Damon',\n",
       " 'Richard Marquand (dir.), Mark Hamill, Harrison Ford',\n",
       " 'Stanley Kubrick (dir.), Keir Dullea, Gary Lockwood',\n",
       " 'Quentin Tarantino (dir.), Harvey Keitel, Tim Roth',\n",
       " 'Fritz Lang (dir.), Peter Lorre, Ellen Widmann',\n",
       " 'Alfred Hitchcock (dir.), James Stewart, Kim Novak',\n",
       " 'Aamir Khan (dir.), Darsheel Safary, Aamir Khan',\n",
       " 'Orson Welles (dir.), Orson Welles, Joseph Cotten',\n",
       " 'Elem Klimov (dir.), Aleksey Kravchenko, Olga Mironova',\n",
       " 'Thomas Vinterberg (dir.), Mads Mikkelsen, Thomas Bo Larsen',\n",
       " 'Darren Aronofsky (dir.), Ellen Burstyn, Jared Leto',\n",
       " \"Stanley Donen (dir.), Gene Kelly, Donald O'Connor\",\n",
       " 'Alfred Hitchcock (dir.), Cary Grant, Eva Marie Saint',\n",
       " 'Michel Gondry (dir.), Jim Carrey, Kate Winslet',\n",
       " 'Vittorio De Sica (dir.), Lamberto Maggiorani, Enzo Staiola',\n",
       " 'Akira Kurosawa (dir.), Takashi Shimura, Nobuo Kaneko',\n",
       " \"David Lean (dir.), Peter O'Toole, Alec Guinness\",\n",
       " 'Charles Chaplin (dir.), Charles Chaplin, Edna Purviance',\n",
       " 'Stanley Kubrick (dir.), Matthew Modine, R. Lee Ermey',\n",
       " 'Nitesh Tiwari (dir.), Aamir Khan, Sakshi Tanwar',\n",
       " 'Florian Zeller (dir.), Anthony Hopkins, Olivia Colman',\n",
       " 'Billy Wilder (dir.), Jack Lemmon, Shirley MacLaine',\n",
       " 'Satyajit Ray (dir.), Kanu Bannerjee, Karuna Bannerjee',\n",
       " 'Denis Villeneuve (dir.), Lubna Azabal, Mélissa Désormeaux-Poulin',\n",
       " 'Stanley Kubrick (dir.), Malcolm McDowell, Patrick Magee',\n",
       " 'Fritz Lang (dir.), Brigitte Helm, Alfred Abel',\n",
       " 'Martin Scorsese (dir.), Robert De Niro, Jodie Foster',\n",
       " 'Billy Wilder (dir.), Fred MacMurray, Barbara Stanwyck',\n",
       " 'Asghar Farhadi (dir.), Payman Maadi, Leila Hatami',\n",
       " 'George Roy Hill (dir.), Paul Newman, Robert Redford',\n",
       " 'Brian De Palma (dir.), Al Pacino, Michelle Pfeiffer',\n",
       " 'Guy Ritchie (dir.), Jason Statham, Brad Pitt',\n",
       " 'Sam Mendes (dir.), Dean-Charles Chapman, George MacKay',\n",
       " 'Jean-Pierre Jeunet (dir.), Audrey Tautou, Mathieu Kassovitz',\n",
       " 'Robert Mulligan (dir.), Gregory Peck, John Megna',\n",
       " 'Lee Unkrich (dir.), Tom Hanks, Tim Allen',\n",
       " 'Sergio Leone (dir.), Clint Eastwood, Lee Van Cleef',\n",
       " 'Pete Docter (dir.), Ed Asner, Jordan Nagai',\n",
       " 'Steven Spielberg (dir.), Harrison Ford, Sean Connery',\n",
       " 'Michael Mann (dir.), Al Pacino, Robert De Niro',\n",
       " 'Curtis Hanson (dir.), Kevin Spacey, Russell Crowe',\n",
       " 'Akira Kurosawa (dir.), Toshirô Mifune, Eijirô Tôno',\n",
       " 'Akira Kurosawa (dir.), Tatsuya Nakadai, Akira Terao',\n",
       " 'John McTiernan (dir.), Bruce Willis, Alan Rickman',\n",
       " 'Akira Kurosawa (dir.), Toshirô Mifune, Machiko Kyô',\n",
       " 'Peter Farrelly (dir.), Viggo Mortensen, Mahershala Ali',\n",
       " 'Oliver Hirschbiegel (dir.), Bruno Ganz, Alexandra Maria Lara',\n",
       " 'Terry Gilliam (dir.), Graham Chapman, John Cleese',\n",
       " 'Joseph L. Mankiewicz (dir.), Bette Davis, Anne Baxter',\n",
       " 'Billy Wilder (dir.), Marilyn Monroe, Tony Curtis',\n",
       " 'Christopher Nolan (dir.), Christian Bale, Michael Caine',\n",
       " 'Clint Eastwood (dir.), Clint Eastwood, Gene Hackman',\n",
       " 'Majid Majidi (dir.), Mohammad Amir Naji, Amir Farrokh Hashemian',\n",
       " 'T.J. Gnanavel (dir.), Suriya, Lijo Mol Jose',\n",
       " 'Hayao Miyazaki (dir.), Chieko Baishô, Takuya Kimura',\n",
       " 'Martin Scorsese (dir.), Leonardo DiCaprio, Jonah Hill',\n",
       " 'Stanley Kramer (dir.), Spencer Tracy, Burt Lancaster',\n",
       " 'Denis Villeneuve (dir.), Timothée Chalamet, Rebecca Ferguson',\n",
       " 'John Sturges (dir.), Steve McQueen, James Garner',\n",
       " 'Martin Scorsese (dir.), Robert De Niro, Sharon Stone',\n",
       " 'Paul Thomas Anderson (dir.), Daniel Day-Lewis, Paul Dano',\n",
       " 'John Huston (dir.), Humphrey Bogart, Walter Huston',\n",
       " 'Guillermo del Toro (dir.), Ivana Baquero, Ariadna Gil',\n",
       " 'Akira Kurosawa (dir.), Maksim Munzuk, Yuriy Solomin',\n",
       " 'Ron Howard (dir.), Russell Crowe, Ed Harris',\n",
       " 'Juan José Campanella (dir.), Ricardo Darín, Soledad Villamil',\n",
       " 'Martin Scorsese (dir.), Robert De Niro, Cathy Moriarty',\n",
       " 'Roman Polanski (dir.), Jack Nicholson, Faye Dunaway',\n",
       " 'Hayao Miyazaki (dir.), Hitoshi Takagi, Noriko Hidaka',\n",
       " 'Guy Ritchie (dir.), Jason Flemyng, Dexter Fletcher',\n",
       " 'Martin Scorsese (dir.), Leonardo DiCaprio, Emily Mortimer',\n",
       " 'Charles Chaplin (dir.), Charles Chaplin, Mack Swain',\n",
       " 'Ethan Coen (dir.), Tommy Lee Jones, Javier Bardem',\n",
       " 'Alfred Hitchcock (dir.), Ray Milland, Grace Kelly',\n",
       " 'Ingmar Bergman (dir.), Max von Sydow, Gunnar Björnstrand',\n",
       " 'Martin McDonagh (dir.), Frances McDormand, Woody Harrelson',\n",
       " 'John Carpenter (dir.), Kurt Russell, Wilford Brimley',\n",
       " 'David Lynch (dir.), Anthony Hopkins, John Hurt',\n",
       " 'M. Night Shyamalan (dir.), Bruce Willis, Haley Joel Osment',\n",
       " 'Sergio Pablos (dir.), Jason Schwartzman, J.K. Simmons',\n",
       " 'Ingmar Bergman (dir.), Victor Sjöström, Bibi Andersson',\n",
       " 'Carol Reed (dir.), Orson Welles, Joseph Cotten',\n",
       " 'Peter Weir (dir.), Jim Carrey, Ed Harris',\n",
       " 'Steven Spielberg (dir.), Sam Neill, Laura Dern',\n",
       " 'James McTeigue (dir.), Hugo Weaving, Natalie Portman',\n",
       " 'Bong Joon Ho (dir.), Kang-ho Song, Kim Sang-kyung',\n",
       " 'Pete Docter (dir.), Amy Poehler, Bill Hader',\n",
       " 'Ridley Scott (dir.), Harrison Ford, Rutger Hauer',\n",
       " 'Danny Boyle (dir.), Ewan McGregor, Ewen Bremner',\n",
       " 'David Lean (dir.), William Holden, Alec Guinness',\n",
       " 'Joel Coen (dir.), William H. Macy, Frances McDormand',\n",
       " \"Gavin O'Connor (dir.), Tom Hardy, Nick Nolte\",\n",
       " 'Andrew Stanton (dir.), Albert Brooks, Ellen DeGeneres',\n",
       " 'Quentin Tarantino (dir.), Uma Thurman, David Carradine',\n",
       " 'Victor Fleming (dir.), Clark Gable, Vivien Leigh',\n",
       " 'Yasujirô Ozu (dir.), Chishû Ryû, Chieko Higashiyama',\n",
       " 'Elia Kazan (dir.), Marlon Brando, Karl Malden',\n",
       " 'Cagan Irmak (dir.), Eser Sariyar, Çetin Tekindor',\n",
       " 'Costa-Gavras (dir.), Yves Montand, Irene Papas',\n",
       " 'Damián Szifron (dir.), Darío Grandinetti, María Marull',\n",
       " 'Andrei Tarkovsky (dir.), Alisa Freyndlikh, Aleksandr Kaydanovskiy',\n",
       " 'Michael Cimino (dir.), Robert De Niro, Christopher Walken',\n",
       " 'Clyde Bruckman (dir.), Buster Keaton, Marion Mack',\n",
       " 'Buster Keaton (dir.), Buster Keaton, Kathryn McGuire',\n",
       " 'Ingmar Bergman (dir.), Bibi Andersson, Liv Ullmann',\n",
       " 'Clint Eastwood (dir.), Clint Eastwood, Bee Vang',\n",
       " 'Denis Villeneuve (dir.), Hugh Jackman, Jake Gyllenhaal',\n",
       " 'Wes Anderson (dir.), Ralph Fiennes, F. Murray Abraham',\n",
       " 'Adam Elliot (dir.), Toni Collette, Philip Seymour Hoffman',\n",
       " 'Richard Linklater (dir.), Ethan Hawke, Julie Delpy',\n",
       " 'Frank Capra (dir.), James Stewart, Jean Arthur',\n",
       " 'Steven Spielberg (dir.), Leonardo DiCaprio, Tom Hanks',\n",
       " 'Jim Sheridan (dir.), Daniel Day-Lewis, Pete Postlethwaite',\n",
       " 'Lenny Abrahamson (dir.), Brie Larson, Jacob Tremblay',\n",
       " \"Stanley Kubrick (dir.), Ryan O'Neal, Marisa Berenson\",\n",
       " 'David Fincher (dir.), Ben Affleck, Rosamund Pike',\n",
       " 'Mel Gibson (dir.), Andrew Garfield, Sam Worthington',\n",
       " 'Carl Theodor Dreyer (dir.), Maria Falconetti, Eugene Silvain',\n",
       " 'Sriram Raghavan (dir.), Ayushmann Khurrana, Tabu',\n",
       " 'James Mangold (dir.), Matt Damon, Christian Bale',\n",
       " 'Steve McQueen (dir.), Chiwetel Ejiofor, Michael Kenneth Williams',\n",
       " 'Ernst Lubitsch (dir.), Carole Lombard, Jack Benny',\n",
       " 'Joel Coen (dir.), Jeff Bridges, John Goodman',\n",
       " 'Ingmar Bergman (dir.), Ingrid Bergman, Liv Ullmann',\n",
       " 'Dean DeBlois (dir.), Jay Baruchel, Gerard Butler',\n",
       " 'Peter Weir (dir.), Robin Williams, Robert Sean Leonard',\n",
       " 'George Miller (dir.), Tom Hardy, Charlize Theron',\n",
       " 'William Wyler (dir.), Charlton Heston, Jack Hawkins',\n",
       " 'David Yates (dir.), Daniel Radcliffe, Emma Watson',\n",
       " 'Clint Eastwood (dir.), Hilary Swank, Clint Eastwood',\n",
       " 'Henri-Georges Clouzot (dir.), Yves Montand, Charles Vanel',\n",
       " 'Rob Reiner (dir.), Wil Wheaton, River Phoenix',\n",
       " 'Park Chan-Wook (dir.), Kim Min-hee, Ha Jung-woo',\n",
       " 'Sidney Lumet (dir.), Faye Dunaway, William Holden',\n",
       " 'James Mangold (dir.), Hugh Jackman, Patrick Stewart',\n",
       " 'Stuart Rosenberg (dir.), Paul Newman, George Kennedy',\n",
       " 'Lasse Hallström (dir.), Richard Gere, Joan Allen',\n",
       " 'Anurag Kashyap (dir.), Manoj Bajpayee, Richa Chadha',\n",
       " 'François Truffaut (dir.), Jean-Pierre Léaud, Albert Rémy',\n",
       " 'Mathieu Kassovitz (dir.), Vincent Cassel, Hubert Koundé',\n",
       " 'Oliver Stone (dir.), Charlie Sheen, Tom Berenger',\n",
       " 'Tom McCarthy (dir.), Mark Ruffalo, Michael Keaton',\n",
       " 'Naoko Yamada (dir.), Miyu Irino, Saori Hayami',\n",
       " 'Alfred Hitchcock (dir.), Laurence Olivier, Joan Fontaine',\n",
       " 'Pete Docter (dir.), Billy Crystal, John Goodman',\n",
       " 'Terry Jones (dir.), Graham Chapman, John Cleese',\n",
       " 'Yavuz Turgul (dir.), Sener Sen, Ugur Yücel',\n",
       " 'Terry George (dir.), Don Cheadle, Sophie Okonedo',\n",
       " 'Kar-Wai Wong (dir.), Tony Chiu-Wai Leung, Maggie Cheung',\n",
       " 'Ron Howard (dir.), Daniel Brühl, Chris Hemsworth',\n",
       " 'Sean Penn (dir.), Emile Hirsch, Vince Vaughn',\n",
       " 'Alejandro G. Iñárritu (dir.), Emilio Echevarría, Gael García Bernal',\n",
       " 'John G. Avildsen (dir.), Sylvester Stallone, Talia Shire',\n",
       " 'Hayao Miyazaki (dir.), Sumi Shimamoto, Mahito Tsujimura',\n",
       " 'Andrei Tarkovsky (dir.), Anatoliy Solonitsyn, Ivan Lapikov',\n",
       " 'Frank Capra (dir.), Clark Gable, Claudette Colbert',\n",
       " 'Richard Linklater (dir.), Ethan Hawke, Julie Delpy',\n",
       " 'Ingmar Bergman (dir.), Bertil Guve, Pernilla Allwin',\n",
       " 'Gillo Pontecorvo (dir.), Brahim Hadjadj, Jean Martin',\n",
       " 'Hideaki Anno (dir.), Megumi Ogata, Megumi Hayashibara',\n",
       " 'Rob Reiner (dir.), Cary Elwes, Mandy Patinkin',\n",
       " 'Federico Fellini (dir.), Giulietta Masina, François Périer',\n",
       " 'Wim Wenders (dir.), Harry Dean Stanton, Nastassja Kinski',\n",
       " 'Krzysztof Kieslowski (dir.), Irène Jacob, Jean-Louis Trintignant',\n",
       " 'Shoojit Sircar (dir.), Vicky Kaushal, Banita Sandhu']"
      ]
     },
     "execution_count": 373,
     "metadata": {},
     "output_type": "execute_result"
    }
   ],
   "source": [
    "stars = [tags[i].find_all(\"td\")[1].find(\"a\").get(\"title\")  for i in range(1,len(tags))]\n",
    "stars"
   ]
  },
  {
   "cell_type": "code",
   "execution_count": 372,
   "metadata": {},
   "outputs": [
    {
     "data": {
      "text/plain": [
       "[['Cadena perpetua'],\n",
       " ['El padrino'],\n",
       " ['El padrino: Parte II'],\n",
       " ['El caballero oscuro'],\n",
       " ['12 hombres sin piedad'],\n",
       " ['La lista de Schindler'],\n",
       " ['El señor de los anillos: El retorno del rey'],\n",
       " ['Pulp Fiction'],\n",
       " ['El bueno, el feo y el malo'],\n",
       " ['El señor de los anillos: La comunidad del anillo'],\n",
       " ['El club de la lucha'],\n",
       " ['Forrest Gump'],\n",
       " ['Origen'],\n",
       " ['El señor de los anillos: Las dos torres'],\n",
       " ['El Imperio contraataca'],\n",
       " ['Matrix'],\n",
       " ['Uno de los nuestros'],\n",
       " ['Alguien voló sobre el nido del cuco'],\n",
       " ['Los siete samuráis'],\n",
       " ['Seven'],\n",
       " ['El silencio de los corderos'],\n",
       " ['Ciudad de Dios'],\n",
       " ['La vida es bella'],\n",
       " ['¡Qué bello es vivir!'],\n",
       " ['La guerra de las galaxias'],\n",
       " ['Salvar al soldado Ryan'],\n",
       " ['Interstellar'],\n",
       " ['El viaje de Chihiro'],\n",
       " ['La milla verde'],\n",
       " ['Parásitos'],\n",
       " ['El profesional (Léon)'],\n",
       " ['Harakiri'],\n",
       " ['El pianista'],\n",
       " ['Terminator 2: El juicio final'],\n",
       " ['Sospechosos habituales'],\n",
       " ['Regreso al futuro'],\n",
       " ['Psicosis'],\n",
       " ['El rey león'],\n",
       " ['Tiempos modernos'],\n",
       " ['American History X'],\n",
       " ['La tumba de las luciérnagas'],\n",
       " ['Luces de la ciudad'],\n",
       " ['Whiplash'],\n",
       " ['Gladiator (El gladiador)'],\n",
       " ['Infiltrados'],\n",
       " ['Intocable'],\n",
       " ['El truco final (El prestigio)'],\n",
       " ['Casablanca'],\n",
       " ['Hasta que llegó su hora'],\n",
       " ['La ventana indiscreta'],\n",
       " ['Cinema Paradiso'],\n",
       " ['Alien, el octavo pasajero'],\n",
       " ['Apocalypse Now'],\n",
       " ['Memento'],\n",
       " ['En busca del arca perdida'],\n",
       " ['El gran dictador'],\n",
       " ['La vida de los otros'],\n",
       " ['Django desencadenado'],\n",
       " ['Senderos de gloria'],\n",
       " ['El crepúsculo de los dioses'],\n",
       " ['WALL·E'],\n",
       " ['Vengadores: Infinity War'],\n",
       " ['Testigo de cargo'],\n",
       " ['El resplandor'],\n",
       " ['Spider-Man: Un nuevo universo'],\n",
       " ['¿Teléfono rojo? Volamos hacia Moscú'],\n",
       " ['Joker'],\n",
       " ['La princesa Mononoke'],\n",
       " ['Old Boy'],\n",
       " ['Your Name.'],\n",
       " ['El caballero oscuro: La leyenda renace'],\n",
       " ['Coco'],\n",
       " ['Aliens: El regreso'],\n",
       " ['Érase una vez en América'],\n",
       " ['Cafarnaúm'],\n",
       " ['Vengadores: Endgame'],\n",
       " ['El submarino (Das Boot)'],\n",
       " ['El infierno del odio'],\n",
       " ['American Beauty'],\n",
       " ['Toy Story'],\n",
       " ['3 Idiots'],\n",
       " ['Amadeus'],\n",
       " ['Hamilton'],\n",
       " ['Braveheart'],\n",
       " ['Malditos bastardos'],\n",
       " ['El indomable Will Hunting'],\n",
       " ['El retorno del jedi'],\n",
       " ['2001: Una odisea del espacio'],\n",
       " ['Reservoir Dogs'],\n",
       " ['M, el vampiro de Düsseldorf'],\n",
       " ['Vértigo (De entre los muertos)'],\n",
       " ['Taare Zameen Par'],\n",
       " ['Ciudadano Kane'],\n",
       " ['Masacre (Ven y mira)'],\n",
       " ['La caza'],\n",
       " ['Réquiem por un sueño'],\n",
       " ['Cantando bajo la lluvia'],\n",
       " ['Con la muerte en los talones'],\n",
       " ['¡Olvídate de mí!'],\n",
       " ['Ladrón de bicicletas'],\n",
       " ['Ikiru (Vivir)'],\n",
       " ['Lawrence de Arabia'],\n",
       " ['El chico'],\n",
       " ['La chaqueta metálica'],\n",
       " ['Dangal'],\n",
       " ['El padre'],\n",
       " ['El apartamento'],\n",
       " ['Pather Panchali (La canción del camino)'],\n",
       " ['Incendios'],\n",
       " ['La naranja mecánica'],\n",
       " ['Metrópolis'],\n",
       " ['Taxi Driver'],\n",
       " ['Perdición'],\n",
       " ['Nader y Simin, una separación'],\n",
       " ['El golpe'],\n",
       " ['El precio del poder'],\n",
       " ['Snatch: Cerdos y diamantes'],\n",
       " ['1917'],\n",
       " ['Amelie'],\n",
       " ['Matar un ruiseñor'],\n",
       " ['Toy Story 3'],\n",
       " ['La muerte tenía un precio'],\n",
       " ['Up'],\n",
       " ['Indiana Jones y la última cruzada'],\n",
       " ['Heat'],\n",
       " ['L.A. Confidential'],\n",
       " ['Yojimbo'],\n",
       " ['Ran'],\n",
       " ['Jungla de cristal'],\n",
       " ['Rashomon'],\n",
       " ['Green Book'],\n",
       " ['El hundimiento'],\n",
       " ['Los caballeros de la mesa cuadrada y sus locos seguidores'],\n",
       " ['Eva al desnudo'],\n",
       " ['Con faldas y a lo loco'],\n",
       " ['Batman Begins'],\n",
       " ['Sin perdón'],\n",
       " ['Children of Heaven'],\n",
       " ['Jai Bhim'],\n",
       " ['El castillo ambulante'],\n",
       " ['El lobo de Wall Street'],\n",
       " ['Vencedores o vencidos'],\n",
       " ['Dune'],\n",
       " ['La gran evasión'],\n",
       " ['Casino'],\n",
       " ['Pozos de ambición'],\n",
       " ['El tesoro de Sierra Madre'],\n",
       " ['El laberinto del fauno'],\n",
       " ['Dersu Uzala (El cazador)'],\n",
       " ['Una mente maravillosa'],\n",
       " ['El secreto de sus ojos'],\n",
       " ['Toro salvaje'],\n",
       " ['Chinatown'],\n",
       " ['Mi vecino Totoro'],\n",
       " ['Lock & Stock'],\n",
       " ['Shutter Island'],\n",
       " ['La quimera del oro'],\n",
       " ['No es país para viejos'],\n",
       " ['Crimen perfecto'],\n",
       " ['El séptimo sello'],\n",
       " ['Tres anuncios en las afueras'],\n",
       " ['La cosa'],\n",
       " ['El hombre elefante'],\n",
       " ['El sexto sentido'],\n",
       " ['Klaus'],\n",
       " ['Fresas salvajes'],\n",
       " ['El tercer hombre'],\n",
       " ['El show de Truman'],\n",
       " ['Jurassic Park (Parque Jurásico)'],\n",
       " ['V de Vendetta'],\n",
       " ['Memories of Murder (Crónica de un asesino en serie)'],\n",
       " ['Del revés (Inside Out)'],\n",
       " ['Blade Runner'],\n",
       " ['Trainspotting'],\n",
       " ['El puente sobre el río Kwai'],\n",
       " ['Fargo'],\n",
       " ['Warrior'],\n",
       " ['Buscando a Nemo'],\n",
       " ['Kill Bill: Volumen 1'],\n",
       " ['Lo que el viento se llevó'],\n",
       " ['Cuentos de Tokio'],\n",
       " ['La ley del silencio'],\n",
       " ['Mi padre y mi hijo'],\n",
       " ['Z'],\n",
       " ['Relatos salvajes'],\n",
       " ['Stalker'],\n",
       " ['El cazador'],\n",
       " ['El maquinista de La General'],\n",
       " ['El moderno Sherlock Holmes'],\n",
       " ['Persona'],\n",
       " ['Gran Torino'],\n",
       " ['Prisioneros'],\n",
       " ['El gran hotel Budapest'],\n",
       " ['Mary and Max'],\n",
       " ['Antes de amanecer'],\n",
       " ['Caballero sin espada'],\n",
       " ['Atrápame si puedes'],\n",
       " ['En el nombre del padre'],\n",
       " ['La habitación'],\n",
       " ['Barry Lyndon'],\n",
       " ['Perdida'],\n",
       " ['Hasta el último hombre'],\n",
       " ['La pasión de Juana de Arco'],\n",
       " ['Andhadhun'],\n",
       " [\"Le Mans '66\"],\n",
       " ['12 años de esclavitud'],\n",
       " ['Ser o no ser'],\n",
       " ['El gran Lebowski'],\n",
       " ['Sonata de otoño'],\n",
       " ['Cómo entrenar a tu dragón'],\n",
       " ['El club de los poetas muertos'],\n",
       " ['Mad Max: Furia en la carretera'],\n",
       " ['Ben-Hur'],\n",
       " ['Harry Potter y las Reliquias de la Muerte - Parte 2'],\n",
       " ['Million Dollar Baby'],\n",
       " ['El salario del miedo'],\n",
       " ['Cuenta conmigo'],\n",
       " ['La doncella'],\n",
       " ['Network, un mundo implacable'],\n",
       " ['Logan'],\n",
       " ['La leyenda del indomable'],\n",
       " ['Siempre a tu lado (Hachiko)'],\n",
       " ['Gangs of Wasseypur'],\n",
       " ['Los cuatrocientos golpes'],\n",
       " ['El odio'],\n",
       " ['Platoon'],\n",
       " ['Spotlight'],\n",
       " ['A Silent Voice'],\n",
       " ['Rebeca'],\n",
       " ['Monstruos, S.A.'],\n",
       " ['La vida de Brian'],\n",
       " ['Eskiya'],\n",
       " ['Hotel Rwanda'],\n",
       " ['Deseando amar'],\n",
       " ['Rush'],\n",
       " ['Hacia rutas salvajes'],\n",
       " ['Amores perros'],\n",
       " ['Rocky'],\n",
       " ['Nausicaä del Valle del Viento'],\n",
       " ['Andrei Rublev'],\n",
       " ['Sucedió una noche'],\n",
       " ['Antes del atardecer'],\n",
       " ['Fanny y Alexander'],\n",
       " ['La batalla de Argel'],\n",
       " ['Neon Genesis Evangelion: The End of Evangelion'],\n",
       " ['La princesa prometida'],\n",
       " ['Las noches de Cabiria'],\n",
       " ['Paris, Texas'],\n",
       " ['Tres colores: Rojo'],\n",
       " ['Sardar Udham']]"
      ]
     },
     "execution_count": 372,
     "metadata": {},
     "output_type": "execute_result"
    }
   ],
   "source": [
    "titulos = [list(tags[i].find_all(\"td\")[1].find(\"a\"))  for i in range(1,len(tags))]\n",
    "titulos"
   ]
  },
  {
   "cell_type": "code",
   "execution_count": null,
   "metadata": {},
   "outputs": [],
   "source": []
  },
  {
   "cell_type": "code",
   "execution_count": 359,
   "metadata": {},
   "outputs": [],
   "source": [
    "years = list(soup.find_all(\"span\", {\"class\": \"secondaryInfo\"}))"
   ]
  },
  {
   "cell_type": "code",
   "execution_count": null,
   "metadata": {},
   "outputs": [],
   "source": []
  },
  {
   "cell_type": "code",
   "execution_count": 368,
   "metadata": {},
   "outputs": [
    {
     "data": {
      "text/plain": [
       "[1994,\n",
       " 1972,\n",
       " 1974,\n",
       " 2008,\n",
       " 1957,\n",
       " 1993,\n",
       " 2003,\n",
       " 1994,\n",
       " 1966,\n",
       " 2001,\n",
       " 1999,\n",
       " 1994,\n",
       " 2010,\n",
       " 2002,\n",
       " 1980,\n",
       " 1999,\n",
       " 1990,\n",
       " 1975,\n",
       " 1954,\n",
       " 1995,\n",
       " 1991,\n",
       " 2002,\n",
       " 1997,\n",
       " 1946,\n",
       " 1977,\n",
       " 1998,\n",
       " 2014,\n",
       " 2001,\n",
       " 1999,\n",
       " 2019,\n",
       " 1994,\n",
       " 1962,\n",
       " 2002,\n",
       " 1991,\n",
       " 1995,\n",
       " 1985,\n",
       " 1960,\n",
       " 1994,\n",
       " 1936,\n",
       " 1998,\n",
       " 1988,\n",
       " 1931,\n",
       " 2014,\n",
       " 2000,\n",
       " 2006,\n",
       " 2011,\n",
       " 2006,\n",
       " 1942,\n",
       " 1968,\n",
       " 1954,\n",
       " 1988,\n",
       " 1979,\n",
       " 1979,\n",
       " 2000,\n",
       " 1981,\n",
       " 1940,\n",
       " 2006,\n",
       " 2012,\n",
       " 1957,\n",
       " 1950,\n",
       " 2008,\n",
       " 2018,\n",
       " 1957,\n",
       " 1980,\n",
       " 2018,\n",
       " 1964,\n",
       " 2019,\n",
       " 1997,\n",
       " 2003,\n",
       " 2016,\n",
       " 2012,\n",
       " 2017,\n",
       " 1986,\n",
       " 1984,\n",
       " 2018,\n",
       " 2019,\n",
       " 1981,\n",
       " 1963,\n",
       " 1999,\n",
       " 1995,\n",
       " 2009,\n",
       " 1984,\n",
       " 2020,\n",
       " 1995,\n",
       " 2009,\n",
       " 1997,\n",
       " 1983,\n",
       " 1968,\n",
       " 1992,\n",
       " 1931,\n",
       " 1958,\n",
       " 2007,\n",
       " 1941,\n",
       " 1985,\n",
       " 2012,\n",
       " 2000,\n",
       " 1952,\n",
       " 1959,\n",
       " 2004,\n",
       " 1948,\n",
       " 1952,\n",
       " 1962,\n",
       " 1921,\n",
       " 1987,\n",
       " 2016,\n",
       " 2020,\n",
       " 1960,\n",
       " 1955,\n",
       " 2010,\n",
       " 1971,\n",
       " 1927,\n",
       " 1976,\n",
       " 1944,\n",
       " 2011,\n",
       " 1973,\n",
       " 1983,\n",
       " 2000,\n",
       " 2019,\n",
       " 2001,\n",
       " 1962,\n",
       " 2010,\n",
       " 1965,\n",
       " 2009,\n",
       " 1989,\n",
       " 1995,\n",
       " 1997,\n",
       " 1961,\n",
       " 1985,\n",
       " 1988,\n",
       " 1950,\n",
       " 2018,\n",
       " 2004,\n",
       " 1975,\n",
       " 1950,\n",
       " 1959,\n",
       " 2005,\n",
       " 1992,\n",
       " 1997,\n",
       " 2021,\n",
       " 2004,\n",
       " 2013,\n",
       " 1961,\n",
       " 2021,\n",
       " 1963,\n",
       " 1995,\n",
       " 2007,\n",
       " 1948,\n",
       " 2006,\n",
       " 1975,\n",
       " 2001,\n",
       " 2009,\n",
       " 1980,\n",
       " 1974,\n",
       " 1988,\n",
       " 1998,\n",
       " 2010,\n",
       " 1925,\n",
       " 2007,\n",
       " 1954,\n",
       " 1957,\n",
       " 2017,\n",
       " 1982,\n",
       " 1980,\n",
       " 1999,\n",
       " 2019,\n",
       " 1957,\n",
       " 1949,\n",
       " 1998,\n",
       " 1993,\n",
       " 2005,\n",
       " 2003,\n",
       " 2015,\n",
       " 1982,\n",
       " 1996,\n",
       " 1957,\n",
       " 1996,\n",
       " 2011,\n",
       " 2003,\n",
       " 2003,\n",
       " 1939,\n",
       " 1953,\n",
       " 1954,\n",
       " 2005,\n",
       " 1969,\n",
       " 2014,\n",
       " 1979,\n",
       " 1978,\n",
       " 1926,\n",
       " 1924,\n",
       " 1966,\n",
       " 2008,\n",
       " 2013,\n",
       " 2014,\n",
       " 2009,\n",
       " 1995,\n",
       " 1939,\n",
       " 2002,\n",
       " 1993,\n",
       " 2015,\n",
       " 1975,\n",
       " 2014,\n",
       " 2016,\n",
       " 1928,\n",
       " 2018,\n",
       " 2019,\n",
       " 2013,\n",
       " 1942,\n",
       " 1998,\n",
       " 1978,\n",
       " 2010,\n",
       " 1989,\n",
       " 2015,\n",
       " 1959,\n",
       " 2011,\n",
       " 2004,\n",
       " 1953,\n",
       " 1986,\n",
       " 2016,\n",
       " 1976,\n",
       " 2017,\n",
       " 1967,\n",
       " 2009,\n",
       " 2012,\n",
       " 1959,\n",
       " 1995,\n",
       " 1986,\n",
       " 2015,\n",
       " 2016,\n",
       " 1940,\n",
       " 2001,\n",
       " 1979,\n",
       " 1996,\n",
       " 2004,\n",
       " 2000,\n",
       " 2013,\n",
       " 2007,\n",
       " 2000,\n",
       " 1976,\n",
       " 1984,\n",
       " 1966,\n",
       " 1934,\n",
       " 2004,\n",
       " 1982,\n",
       " 1966,\n",
       " 1997,\n",
       " 1987,\n",
       " 1957,\n",
       " 1984,\n",
       " 1994,\n",
       " 2021]"
      ]
     },
     "execution_count": 368,
     "metadata": {},
     "output_type": "execute_result"
    }
   ],
   "source": [
    "years_bien=[]\n",
    "for a in years:\n",
    "    years_bien.append(int(a.getText().split(\"(\")[1].split(\")\")[0]))\n",
    "years_bien"
   ]
  },
  {
   "cell_type": "code",
   "execution_count": 378,
   "metadata": {},
   "outputs": [],
   "source": [
    "final=[[titulos[i], years_bien[i], stars[i].split(\"(dir.)\")[0], stars[i].split(\"(dir.)\")[1] ] for  i in range(1,len(titulos)) ]"
   ]
  },
  {
   "cell_type": "code",
   "execution_count": 380,
   "metadata": {},
   "outputs": [],
   "source": [
    "df=pd.DataFrame(final)"
   ]
  },
  {
   "cell_type": "code",
   "execution_count": 381,
   "metadata": {},
   "outputs": [
    {
     "data": {
      "text/html": [
       "<div>\n",
       "<style scoped>\n",
       "    .dataframe tbody tr th:only-of-type {\n",
       "        vertical-align: middle;\n",
       "    }\n",
       "\n",
       "    .dataframe tbody tr th {\n",
       "        vertical-align: top;\n",
       "    }\n",
       "\n",
       "    .dataframe thead th {\n",
       "        text-align: right;\n",
       "    }\n",
       "</style>\n",
       "<table border=\"1\" class=\"dataframe\">\n",
       "  <thead>\n",
       "    <tr style=\"text-align: right;\">\n",
       "      <th></th>\n",
       "      <th>0</th>\n",
       "      <th>1</th>\n",
       "      <th>2</th>\n",
       "      <th>3</th>\n",
       "    </tr>\n",
       "  </thead>\n",
       "  <tbody>\n",
       "    <tr>\n",
       "      <th>0</th>\n",
       "      <td>[El padrino]</td>\n",
       "      <td>1972</td>\n",
       "      <td>Francis Ford Coppola</td>\n",
       "      <td>, Marlon Brando, Al Pacino</td>\n",
       "    </tr>\n",
       "    <tr>\n",
       "      <th>1</th>\n",
       "      <td>[El padrino: Parte II]</td>\n",
       "      <td>1974</td>\n",
       "      <td>Francis Ford Coppola</td>\n",
       "      <td>, Al Pacino, Robert De Niro</td>\n",
       "    </tr>\n",
       "    <tr>\n",
       "      <th>2</th>\n",
       "      <td>[El caballero oscuro]</td>\n",
       "      <td>2008</td>\n",
       "      <td>Christopher Nolan</td>\n",
       "      <td>, Christian Bale, Heath Ledger</td>\n",
       "    </tr>\n",
       "    <tr>\n",
       "      <th>3</th>\n",
       "      <td>[12 hombres sin piedad]</td>\n",
       "      <td>1957</td>\n",
       "      <td>Sidney Lumet</td>\n",
       "      <td>, Henry Fonda, Lee J. Cobb</td>\n",
       "    </tr>\n",
       "    <tr>\n",
       "      <th>4</th>\n",
       "      <td>[La lista de Schindler]</td>\n",
       "      <td>1993</td>\n",
       "      <td>Steven Spielberg</td>\n",
       "      <td>, Liam Neeson, Ralph Fiennes</td>\n",
       "    </tr>\n",
       "    <tr>\n",
       "      <th>...</th>\n",
       "      <td>...</td>\n",
       "      <td>...</td>\n",
       "      <td>...</td>\n",
       "      <td>...</td>\n",
       "    </tr>\n",
       "    <tr>\n",
       "      <th>244</th>\n",
       "      <td>[La princesa prometida]</td>\n",
       "      <td>1987</td>\n",
       "      <td>Rob Reiner</td>\n",
       "      <td>, Cary Elwes, Mandy Patinkin</td>\n",
       "    </tr>\n",
       "    <tr>\n",
       "      <th>245</th>\n",
       "      <td>[Las noches de Cabiria]</td>\n",
       "      <td>1957</td>\n",
       "      <td>Federico Fellini</td>\n",
       "      <td>, Giulietta Masina, François Périer</td>\n",
       "    </tr>\n",
       "    <tr>\n",
       "      <th>246</th>\n",
       "      <td>[Paris, Texas]</td>\n",
       "      <td>1984</td>\n",
       "      <td>Wim Wenders</td>\n",
       "      <td>, Harry Dean Stanton, Nastassja Kinski</td>\n",
       "    </tr>\n",
       "    <tr>\n",
       "      <th>247</th>\n",
       "      <td>[Tres colores: Rojo]</td>\n",
       "      <td>1994</td>\n",
       "      <td>Krzysztof Kieslowski</td>\n",
       "      <td>, Irène Jacob, Jean-Louis Trintignant</td>\n",
       "    </tr>\n",
       "    <tr>\n",
       "      <th>248</th>\n",
       "      <td>[Sardar Udham]</td>\n",
       "      <td>2021</td>\n",
       "      <td>Shoojit Sircar</td>\n",
       "      <td>, Vicky Kaushal, Banita Sandhu</td>\n",
       "    </tr>\n",
       "  </tbody>\n",
       "</table>\n",
       "<p>249 rows × 4 columns</p>\n",
       "</div>"
      ],
      "text/plain": [
       "                           0     1                      2  \\\n",
       "0               [El padrino]  1972  Francis Ford Coppola    \n",
       "1     [El padrino: Parte II]  1974  Francis Ford Coppola    \n",
       "2      [El caballero oscuro]  2008     Christopher Nolan    \n",
       "3    [12 hombres sin piedad]  1957          Sidney Lumet    \n",
       "4    [La lista de Schindler]  1993      Steven Spielberg    \n",
       "..                       ...   ...                    ...   \n",
       "244  [La princesa prometida]  1987            Rob Reiner    \n",
       "245  [Las noches de Cabiria]  1957      Federico Fellini    \n",
       "246           [Paris, Texas]  1984           Wim Wenders    \n",
       "247     [Tres colores: Rojo]  1994  Krzysztof Kieslowski    \n",
       "248           [Sardar Udham]  2021        Shoojit Sircar    \n",
       "\n",
       "                                          3  \n",
       "0                , Marlon Brando, Al Pacino  \n",
       "1               , Al Pacino, Robert De Niro  \n",
       "2            , Christian Bale, Heath Ledger  \n",
       "3                , Henry Fonda, Lee J. Cobb  \n",
       "4              , Liam Neeson, Ralph Fiennes  \n",
       "..                                      ...  \n",
       "244            , Cary Elwes, Mandy Patinkin  \n",
       "245     , Giulietta Masina, François Périer  \n",
       "246  , Harry Dean Stanton, Nastassja Kinski  \n",
       "247   , Irène Jacob, Jean-Louis Trintignant  \n",
       "248          , Vicky Kaushal, Banita Sandhu  \n",
       "\n",
       "[249 rows x 4 columns]"
      ]
     },
     "execution_count": 381,
     "metadata": {},
     "output_type": "execute_result"
    }
   ],
   "source": [
    "df"
   ]
  },
  {
   "cell_type": "code",
   "execution_count": null,
   "metadata": {},
   "outputs": [],
   "source": []
  }
 ],
 "metadata": {
  "kernelspec": {
   "display_name": "Python 3",
   "language": "python",
   "name": "python3"
  },
  "language_info": {
   "codemirror_mode": {
    "name": "ipython",
    "version": 3
   },
   "file_extension": ".py",
   "mimetype": "text/x-python",
   "name": "python",
   "nbconvert_exporter": "python",
   "pygments_lexer": "ipython3",
   "version": "3.8.12"
  },
  "toc": {
   "base_numbering": 1,
   "nav_menu": {},
   "number_sections": false,
   "sideBar": true,
   "skip_h1_title": false,
   "title_cell": "Table of Contents",
   "title_sidebar": "Contents",
   "toc_cell": false,
   "toc_position": {
    "height": "calc(100% - 180px)",
    "left": "10px",
    "top": "150px",
    "width": "288px"
   },
   "toc_section_display": true,
   "toc_window_display": false
  }
 },
 "nbformat": 4,
 "nbformat_minor": 2
}
